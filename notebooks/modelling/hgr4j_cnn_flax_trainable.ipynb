{
 "cells": [
  {
   "cell_type": "code",
   "execution_count": 1,
   "metadata": {},
   "outputs": [],
   "source": [
    "import torch\n",
    "import torch.utils.data as torchdata\n",
    "import numpy as np\n",
    "import datetime as dt\n",
    "\n",
    "import jax\n",
    "import jax.numpy as jnp\n",
    "\n",
    "from flax import linen as nn\n",
    "\n",
    "import os\n",
    "import sys\n",
    "sys.path.append(\"/project\")\n",
    "\n",
    "import model.hydro.gr4j_prod as t_prod\n",
    "import model.hydro.gr4j_prod_flax as j_prod\n",
    "from model.ml.cnn_flax import ConvNet\n",
    "from model.utils.training import EarlyStopper\n",
    "from model.utils.evaluation import evaluate, nse\n",
    "from data.utils import read_dataset_from_file, get_station_list"
   ]
  },
  {
   "cell_type": "code",
   "execution_count": 2,
   "metadata": {},
   "outputs": [],
   "source": [
    "\n",
    "from tqdm import tqdm\n",
    "\n",
    "from clu import metrics\n",
    "from flax.training import train_state  # Useful dataclass to keep train state\n",
    "from flax import struct                # Flax dataclasses\n",
    "import optax "
   ]
  },
  {
   "cell_type": "code",
   "execution_count": 3,
   "metadata": {},
   "outputs": [],
   "source": [
    "data_dir = '/data/camels/aus/'\n",
    "sub_dir = 'no-scale'\n",
    "station_id = '105105A'\n",
    "run_dir = '/project/results/hygr4j'\n",
    "\n",
    "x1_init = 0.530927\n",
    "s_init = 0.0\n",
    "\n",
    "window_size = 7\n",
    "batch_size = 460\n",
    "n_epoch = 250\n",
    "\n",
    "in_channels = 1\n",
    "n_features = 5\n",
    "n_filters = (8, 8, 6)\n",
    "dropout = 0.1\n",
    "\n",
    "lr = 1e-4"
   ]
  },
  {
   "cell_type": "code",
   "execution_count": 4,
   "metadata": {},
   "outputs": [
    {
     "name": "stdout",
     "output_type": "stream",
     "text": [
      "Reading data for station_id: 105105A\n"
     ]
    }
   ],
   "source": [
    "print(f\"Reading data for station_id: {station_id}\")\n",
    "train_ds, val_ds = read_dataset_from_file(data_dir, \n",
    "                                          sub_dir, \n",
    "                                          station_id=station_id)"
   ]
  },
  {
   "cell_type": "code",
   "execution_count": 5,
   "metadata": {},
   "outputs": [],
   "source": [
    "if not os.path.exists(run_dir):\n",
    "    os.makedirs(run_dir)\n",
    "\n",
    "plot_dir = os.path.join(run_dir, 'plots')\n",
    "if not os.path.exists(plot_dir):\n",
    "    os.makedirs(plot_dir)\n",
    "\n",
    "t_train, X_train, y_train = train_ds.tensors\n",
    "t_val, X_val, y_val = val_ds.tensors\n",
    "\n",
    "y_mu = y_train.mean(dim=0)\n",
    "y_sigma = y_train.std(dim=0)"
   ]
  },
  {
   "cell_type": "code",
   "execution_count": 6,
   "metadata": {},
   "outputs": [],
   "source": [
    "X_train = torch.nan_to_num(X_train)\n",
    "X_val = torch.nan_to_num(X_val)\n",
    "\n",
    "\n",
    "y_train = (y_train - y_mu)/y_sigma\n",
    "y_val = (y_val - y_mu)/y_sigma\n"
   ]
  },
  {
   "cell_type": "code",
   "execution_count": 7,
   "metadata": {},
   "outputs": [],
   "source": [
    "t_prod_store = t_prod.ProductionStorage(s_init=s_init, x1=x1_init)\n",
    "t_x_out = t_prod_store(X_train, include_x=True)[0]\n",
    "\n",
    "x_mu = t_x_out.mean(dim=0).numpy()\n",
    "x_sigma = t_x_out.std(dim=0).numpy()"
   ]
  },
  {
   "cell_type": "code",
   "execution_count": 8,
   "metadata": {},
   "outputs": [],
   "source": [
    "class HyGR4J(nn.Module):\n",
    "    x1_init: float\n",
    "    s_init: float\n",
    "    x_mu: np.ndarray\n",
    "    x_sigma: np.ndarray\n",
    "    n_filters: tuple=(8, 8, 6)\n",
    "    dropout_p: float=0.2\n",
    "    window_size: int=7\n",
    "    training: bool=True\n",
    "    scale: float=1000.0\n",
    "\n",
    "    def setup(self):\n",
    "        self._prod_store = j_prod.ProductionStorage(x1_init=self.x1_init,\n",
    "                                                   s_init=self.s_init,\n",
    "                                                   scale=self.scale)\n",
    "        self._model = ConvNet(n_filters=self.n_filters,\n",
    "                              dropout_p=self.dropout_p,\n",
    "                              training=self.training)\n",
    "    \n",
    "    def create_sequence(self, X, q):\n",
    "\n",
    "        # Create empyty sequences\n",
    "        Xs, ys = [], []\n",
    "\n",
    "        # Add sequences to Xs and ys\n",
    "        for i in range(1, len(X) - self.window_size):\n",
    "            Xs.append(jnp.concatenate([\n",
    "                                    X[i: (i + self.window_size)],\n",
    "                                    q[i - 1:(i + self.window_size) - 1]\n",
    "                                ], axis=1))\n",
    "\n",
    "        Xs = jnp.stack(Xs)\n",
    "        Xs = jnp.expand_dims(Xs, axis=3)\n",
    "\n",
    "        return Xs\n",
    "\n",
    "    \n",
    "    def __call__(self, x, q):\n",
    "        prod_out, s_store = self._prod_store(x)\n",
    "        prod_out = (prod_out - x_mu)/x_sigma\n",
    "        # prod_out = jnp.concatenate([prod_out, s_store.reshape(-1, 1)], axis=1)\n",
    "        seq = self.create_sequence(prod_out, q)\n",
    "        q_out = self._model(seq)\n",
    "        return q_out, s_store[-1]\n",
    "         \n"
   ]
  },
  {
   "cell_type": "code",
   "execution_count": 9,
   "metadata": {},
   "outputs": [
    {
     "name": "stderr",
     "output_type": "stream",
     "text": [
      "WARNING:jax._src.lib.xla_bridge:No GPU/TPU found, falling back to CPU. (Set TF_CPP_MIN_LOG_LEVEL=0 and rerun for more info.)\n"
     ]
    }
   ],
   "source": [
    "# Key Generators\n",
    "root_key = jax.random.PRNGKey(seed=0)\n",
    "main_key, params_key, dropout_key = jax.random.split(key=root_key, num=3)"
   ]
  },
  {
   "cell_type": "code",
   "execution_count": 10,
   "metadata": {},
   "outputs": [],
   "source": [
    "hygr4j = HyGR4J(x1_init=x1_init, s_init=s_init, \n",
    "                n_filters=n_filters, dropout_p=dropout,\n",
    "                x_mu=x_mu, x_sigma=x_sigma)\n"
   ]
  },
  {
   "cell_type": "code",
   "execution_count": 11,
   "metadata": {},
   "outputs": [],
   "source": [
    "train_ds = torchdata.TensorDataset(X_train, y_train)\n",
    "train_dl = torchdata.DataLoader(train_ds, batch_size=batch_size, \n",
    "                                shuffle=False, num_workers=2, prefetch_factor=2)\n",
    "\n",
    "val_ds = torchdata.TensorDataset(X_val, y_val)\n",
    "val_dl = torchdata.DataLoader(val_ds, batch_size=batch_size, \n",
    "                              shuffle=False, num_workers=2, prefetch_factor=2)"
   ]
  },
  {
   "cell_type": "code",
   "execution_count": 12,
   "metadata": {},
   "outputs": [],
   "source": [
    "@struct.dataclass\n",
    "class Metrics(metrics.Collection):\n",
    "    loss: metrics.Average.from_output('loss')"
   ]
  },
  {
   "cell_type": "code",
   "execution_count": 13,
   "metadata": {},
   "outputs": [],
   "source": [
    "class TrainState(train_state.TrainState):\n",
    "    metrics: Metrics\n",
    "    key: jax.random.KeyArray\n",
    "\n",
    "def create_train_state(module, params_key, dropout_key, lr):\n",
    "    \"\"\"Creates an initial `TrainState`.\"\"\"\n",
    "    \n",
    "    params = module.init({'params': params_key, 'dropout': dropout_key}, \n",
    "                     jax.random.normal(main_key, (batch_size, n_features)), \n",
    "                     jax.random.normal(main_key, (batch_size, 1)))['params']\n",
    "    \n",
    "    tx = optax.adamw(lr, b1=0.88, b2=0.96, weight_decay=0.03)\n",
    "\n",
    "    return TrainState.create(apply_fn=module.apply, \n",
    "                             params=params, tx=tx,\n",
    "                             key=dropout_key,\n",
    "                             metrics=Metrics.empty())"
   ]
  },
  {
   "cell_type": "code",
   "execution_count": 14,
   "metadata": {},
   "outputs": [],
   "source": [
    "@jax.jit\n",
    "def train_step(state, dropout_key, batch, targets):\n",
    "    \"\"\"Train for a single step.\"\"\"\n",
    "    \n",
    "    def loss_fn(params):\n",
    "        preds, s_store = state.apply_fn({'params': params}, batch, targets,\n",
    "                                rngs={'dropout': dropout_key})\n",
    "        loss = optax.l2_loss(preds, targets[window_size+1:]).mean()\n",
    "        return loss\n",
    "    \n",
    "    grad_fn = jax.grad(loss_fn)\n",
    "    grads = grad_fn(state.params)\n",
    "    state = state.apply_gradients(grads=grads)\n",
    "    \n",
    "    return state"
   ]
  },
  {
   "cell_type": "code",
   "execution_count": 15,
   "metadata": {},
   "outputs": [],
   "source": [
    "@jax.jit\n",
    "def compute_metrics(*, state, dropout_key, batch, targets):\n",
    "    \n",
    "    preds, s_store = state.apply_fn({'params': state.params}, batch, targets,\n",
    "                            rngs={'dropout': dropout_key})\n",
    "    \n",
    "    loss = optax.l2_loss(preds, targets[window_size+1:]).mean()\n",
    "    \n",
    "    metric_updates = state.metrics.single_from_model_output(loss=loss)\n",
    "    metrics = state.metrics.merge(metric_updates)\n",
    "    state = state.replace(metrics=metrics)\n",
    "    \n",
    "    return state, s_store"
   ]
  },
  {
   "cell_type": "code",
   "execution_count": 16,
   "metadata": {},
   "outputs": [],
   "source": [
    "state = create_train_state(hygr4j, params_key=params_key,\n",
    "                           dropout_key=dropout_key, lr=lr)"
   ]
  },
  {
   "cell_type": "code",
   "execution_count": 17,
   "metadata": {},
   "outputs": [],
   "source": [
    "metrics_history = {'train_loss': [],\n",
    "                   'test_loss': []}"
   ]
  },
  {
   "cell_type": "code",
   "execution_count": 18,
   "metadata": {},
   "outputs": [],
   "source": [
    "# Early stopping\n",
    "early_stopper = EarlyStopper(patience=5, min_delta=0.01)"
   ]
  },
  {
   "cell_type": "code",
   "execution_count": 19,
   "metadata": {},
   "outputs": [
    {
     "name": "stderr",
     "output_type": "stream",
     "text": [
      "Epoch 250/250 loss: 0.2355 val_loss: 0.2463: 100%|██████████| 250/250 [04:41<00:00,  1.13s/it]\n"
     ]
    }
   ],
   "source": [
    "pbar = tqdm(range(1, n_epoch+1))\n",
    "\n",
    "for epoch in pbar:\n",
    "\n",
    "    hygr4j.s_init = s_init\n",
    "    hygr4j.training = True\n",
    "\n",
    "    # Train step\n",
    "    for step, (batch, targets) in enumerate(train_dl):\n",
    "\n",
    "        batch = batch.detach().numpy()\n",
    "        targets = targets.detach().numpy()\n",
    "\n",
    "        state = train_step(state, dropout_key, batch, targets)\n",
    "        state, s_store_train = compute_metrics(state=state, \n",
    "                                               dropout_key=dropout_key,\n",
    "                                               batch=batch, targets=targets)\n",
    "        hygr4j.s_init = s_store_train/(state.params['_prod_store']['x1']*hygr4j.scale)\n",
    "    \n",
    "    for metric, value in state.metrics.compute().items(): # compute metrics\n",
    "        metrics_history[f'train_{metric}'].append(value) # record metrics\n",
    "    state = state.replace(metrics=state.metrics.empty())\n",
    "\n",
    "    # Validation step\n",
    "    test_state = state\n",
    "    hygr4j.s_init = s_init\n",
    "    hygr4j.training = False\n",
    "    for step, (batch, targets) in enumerate(val_dl):\n",
    "        batch = batch.detach().numpy()\n",
    "        targets = targets.detach().numpy()\n",
    "        test_state, s_store_test = compute_metrics(state=test_state, \n",
    "                                                   dropout_key=dropout_key,\n",
    "                                                   batch=batch, targets=targets)\n",
    "        hygr4j.s_init = s_store_test/(test_state.params['_prod_store']['x1']*hygr4j.scale)\n",
    "\n",
    "    for metric, value in test_state.metrics.compute().items():\n",
    "        metrics_history[f'test_{metric}'].append(value)\n",
    "    \n",
    "    pbar.set_description(f\"\"\"Epoch {epoch}/{n_epoch} loss: {metrics_history['train_loss'][-1]:.4f} val_loss: {metrics_history['test_loss'][-1]:.4f}\"\"\")\n",
    "\n",
    "    if early_stopper.early_stop(metrics_history['test_loss'][-1]):\n",
    "        break"
   ]
  },
  {
   "cell_type": "code",
   "execution_count": 26,
   "metadata": {},
   "outputs": [],
   "source": [
    "y_mu_np = y_mu.detach().numpy()\n",
    "y_sigma_np = y_sigma.detach().numpy()\n",
    "\n",
    "# Empty list to store batch-wise tensors\n",
    "Q = []\n",
    "Q_hat = []\n",
    "\n",
    "hygr4j.training = False\n",
    "hygr4j.s_init = s_init\n",
    "\n",
    "for i, (X, y) in enumerate(val_dl, start=1):\n",
    "\n",
    "    X = X.detach().numpy()\n",
    "    y = y.detach().numpy()\n",
    "    \n",
    "    y_hat, s_store = hygr4j.apply({'params': state.params}, X, y)\n",
    "    hygr4j.s_init = s_store/(state.params['_prod_store']['x1']*hygr4j.scale)\n",
    "\n",
    "    Q.append((y[window_size+1:]*y_sigma_np+y_mu_np))\n",
    "    Q_hat.append((y_hat*y_sigma_np+y_mu_np))\n",
    "\n",
    "Q = np.concatenate(Q, axis=0)\n",
    "Q_hat = jnp.clip(np.concatenate(Q_hat, axis=0), 0)\n"
   ]
  },
  {
   "cell_type": "code",
   "execution_count": 27,
   "metadata": {},
   "outputs": [],
   "source": [
    "import matplotlib.pyplot as plt"
   ]
  },
  {
   "cell_type": "code",
   "execution_count": 28,
   "metadata": {},
   "outputs": [
    {
     "data": {
      "text/plain": [
       "0.6029231250286102"
      ]
     },
     "execution_count": 28,
     "metadata": {},
     "output_type": "execute_result"
    }
   ],
   "source": [
    "nse_score = nse(Q, Q_hat)\n",
    "nse_score"
   ]
  },
  {
   "cell_type": "code",
   "execution_count": 29,
   "metadata": {},
   "outputs": [
    {
     "data": {
      "text/plain": [
       "DeviceArray(3.0190701, dtype=float32)"
      ]
     },
     "execution_count": 29,
     "metadata": {},
     "output_type": "execute_result"
    }
   ],
   "source": [
    "jnp.sqrt(jnp.mean(jnp.square(Q-Q_hat)))"
   ]
  },
  {
   "cell_type": "code",
   "execution_count": 30,
   "metadata": {},
   "outputs": [
    {
     "data": {
      "text/plain": [
       "FrozenDict({\n",
       "    x1: DeviceArray([0.52806824], dtype=float32),\n",
       "})"
      ]
     },
     "execution_count": 30,
     "metadata": {},
     "output_type": "execute_result"
    }
   ],
   "source": [
    "state.params['_prod_store']"
   ]
  },
  {
   "cell_type": "code",
   "execution_count": 31,
   "metadata": {},
   "outputs": [
    {
     "data": {
      "text/plain": [
       "<matplotlib.legend.Legend at 0x7fc3ac000f40>"
      ]
     },
     "execution_count": 31,
     "metadata": {},
     "output_type": "execute_result"
    },
    {
     "data": {
      "image/png": "[encoded data removed]",
      "text/plain": [
       "<Figure size 1600x600 with 1 Axes>"
      ]
     },
     "metadata": {},
     "output_type": "display_data"
    }
   ],
   "source": [
    "fig, ax = plt.subplots(figsize=(16, 6))\n",
    "ax.plot(Q, color='black', label='obs', alpha=1.0)\n",
    "ax.plot(Q_hat, color='red', label='pred', alpha=0.75)\n",
    "\n",
    "ax.set_xlabel('Timestep')\n",
    "ax.set_ylabel('Flow (mm/day)')\n",
    "\n",
    "ax.annotate(f'NSE: {nse_score:.4f}',\n",
    "        xy=(0.8, 0.88), xycoords='figure fraction',\n",
    "        horizontalalignment='right', verticalalignment='top',\n",
    "        fontsize=12)\n",
    "ax.set_title('Streamflow prediction')\n",
    "\n",
    "plt.legend()\n"
   ]
  },
  {
   "cell_type": "code",
   "execution_count": null,
   "metadata": {},
   "outputs": [],
   "source": []
  },
  {
   "cell_type": "code",
   "execution_count": null,
   "metadata": {},
   "outputs": [],
   "source": []
  },
  {
   "cell_type": "code",
   "execution_count": null,
   "metadata": {},
   "outputs": [],
   "source": []
  },
  {
   "cell_type": "code",
   "execution_count": null,
   "metadata": {},
   "outputs": [],
   "source": []
  },
  {
   "cell_type": "code",
   "execution_count": null,
   "metadata": {},
   "outputs": [],
   "source": []
  },
  {
   "cell_type": "code",
   "execution_count": 32,
   "metadata": {},
   "outputs": [],
   "source": []
  },
  {
   "cell_type": "code",
   "execution_count": null,
   "metadata": {},
   "outputs": [],
   "source": []
  }
 ],
 "metadata": {
  "kernelspec": {
   "display_name": "base",
   "language": "python",
   "name": "python3"
  },
  "language_info": {
   "codemirror_mode": {
    "name": "ipython",
    "version": 3
   },
   "file_extension": ".py",
   "mimetype": "text/x-python",
   "name": "python",
   "nbconvert_exporter": "python",
   "pygments_lexer": "ipython3",
   "version": "3.9.13"
  },
  "orig_nbformat": 4,
  "vscode": {
   "interpreter": {
    "hash": "d4d1e4263499bec80672ea0156c357c1ee493ec2b1c70f0acce89fc37c4a6abe"
   }
  }
 },
 "nbformat": 4,
 "nbformat_minor": 2
}
