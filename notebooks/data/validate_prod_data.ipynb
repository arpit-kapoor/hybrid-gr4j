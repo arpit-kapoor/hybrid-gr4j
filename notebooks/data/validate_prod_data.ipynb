{
 "cells": [
  {
   "cell_type": "code",
   "execution_count": 1,
   "metadata": {},
   "outputs": [],
   "source": [
    "import jax\n",
    "import torch\n",
    "import torch.utils.data as torchdata\n",
    "import numpy as np\n",
    "import jax.numpy as jnp\n",
    "\n",
    "import sys\n",
    "sys.path.append(\"/project\")\n",
    "from model.hydro.gr4j_prod import ProductionStorage as TProd\n",
    "from model.hydro.gr4j_prod_flax import ProductionStorage as JProd\n",
    "from data.camels_sampler import CamelsBatchSampler\n",
    "from data.utils import read_dataset_from_file, get_station_list"
   ]
  },
  {
   "cell_type": "code",
   "execution_count": 2,
   "metadata": {},
   "outputs": [],
   "source": [
    "data_dir = '/data/camels/aus/'\n",
    "sub_dir = 'no-scale'\n",
    "station_id = '105105A'\n",
    "run_dir = '/project/results/hygr4j'\n",
    "\n",
    "window_size = 7\n",
    "x1 = 530.927 \n",
    "s_init = 0.0\n",
    "\n",
    "batch_size = 256"
   ]
  },
  {
   "cell_type": "code",
   "execution_count": 3,
   "metadata": {},
   "outputs": [
    {
     "name": "stdout",
     "output_type": "stream",
     "text": [
      "Reading data for station_id: 105105A\n"
     ]
    }
   ],
   "source": [
    "print(f\"Reading data for station_id: {station_id}\")\n",
    "train_ds, val_ds = read_dataset_from_file(data_dir, \n",
    "                                          sub_dir, \n",
    "                                          station_id=station_id)"
   ]
  },
  {
   "cell_type": "code",
   "execution_count": 4,
   "metadata": {},
   "outputs": [],
   "source": [
    "t_train, X_train, y_train = train_ds.tensors\n",
    "t_val, X_val, y_val = val_ds.tensors\n",
    "\n",
    "y_mu = y_train.mean(dim=0)\n",
    "y_sigma = y_train.std(dim=0)"
   ]
  },
  {
   "cell_type": "code",
   "execution_count": 5,
   "metadata": {},
   "outputs": [],
   "source": [
    "X_train = torch.nan_to_num(X_train)\n",
    "X_val = torch.nan_to_num(X_val)\n",
    "\n",
    "y_train = (y_train - y_mu)/y_sigma\n",
    "y_val = (y_val - y_mu)/y_sigma"
   ]
  },
  {
   "attachments": {},
   "cell_type": "markdown",
   "metadata": {},
   "source": [
    "Test with dummy data"
   ]
  },
  {
   "cell_type": "code",
   "execution_count": 6,
   "metadata": {},
   "outputs": [],
   "source": [
    "x = torch.arange(100).reshape((-1, 1))\n",
    "X = torch.concat([x, x], dim=1)\n",
    "y = torch.arange(100).reshape((-1, 1))"
   ]
  },
  {
   "cell_type": "code",
   "execution_count": 7,
   "metadata": {},
   "outputs": [],
   "source": [
    "def t_create_sequence(X, y, window_size):\n",
    "\n",
    "        assert window_size is not None, \"Window size cannot be NoneType.\"\n",
    "\n",
    "        # Create empyty sequences\n",
    "        Xs, ys = [], []\n",
    "\n",
    "        # Add sequences to Xs and ys\n",
    "        for i in range(1, len(X) - window_size):\n",
    "            Xs.append(torch.concat([\n",
    "                                    X[i: (i + window_size)], \n",
    "                                    y[i-1: (i + window_size - 1)]\n",
    "                                ], dim=1)\n",
    "                    )\n",
    "            ys.append(y[i + window_size - 1])\n",
    "\n",
    "        Xs, ys = torch.stack(Xs), torch.stack(ys)\n",
    "\n",
    "        return Xs, ys"
   ]
  },
  {
   "cell_type": "code",
   "execution_count": 8,
   "metadata": {},
   "outputs": [],
   "source": [
    "X_seq, y_seq = t_create_sequence(X, y, window_size=window_size)"
   ]
  },
  {
   "cell_type": "code",
   "execution_count": 9,
   "metadata": {},
   "outputs": [],
   "source": [
    "train_ds = torchdata.TensorDataset(X, y)\n",
    "train_batch_sampler = CamelsBatchSampler(train_ds, batch_size=batch_size, \n",
    "                                         window_size=window_size,\n",
    "                                         drop_last=False)\n",
    "\n",
    "train_dl = torchdata.DataLoader(train_ds, batch_sampler=train_batch_sampler, \n",
    "                                num_workers=2, prefetch_factor=2)"
   ]
  },
  {
   "cell_type": "code",
   "execution_count": 10,
   "metadata": {},
   "outputs": [],
   "source": [
    "prod_seq = []\n",
    "y_out = []\n",
    "\n",
    "for (X, q) in train_dl:\n",
    "    x_seq, y = t_create_sequence(X, q, window_size=window_size)\n",
    "    prod_seq.append(x_seq)\n",
    "    y_out.append(y)"
   ]
  },
  {
   "cell_type": "code",
   "execution_count": 11,
   "metadata": {},
   "outputs": [
    {
     "data": {
      "text/plain": [
       "True"
      ]
     },
     "execution_count": 11,
     "metadata": {},
     "output_type": "execute_result"
    }
   ],
   "source": [
    "A = torch.concat(prod_seq)\n",
    "B = X_seq\n",
    "torch.equal(A, B)"
   ]
  },
  {
   "cell_type": "code",
   "execution_count": null,
   "metadata": {},
   "outputs": [],
   "source": []
  },
  {
   "cell_type": "code",
   "execution_count": null,
   "metadata": {},
   "outputs": [],
   "source": []
  },
  {
   "cell_type": "code",
   "execution_count": null,
   "metadata": {},
   "outputs": [],
   "source": []
  },
  {
   "cell_type": "code",
   "execution_count": null,
   "metadata": {},
   "outputs": [],
   "source": []
  },
  {
   "cell_type": "code",
   "execution_count": null,
   "metadata": {},
   "outputs": [],
   "source": []
  },
  {
   "cell_type": "code",
   "execution_count": null,
   "metadata": {},
   "outputs": [],
   "source": []
  },
  {
   "cell_type": "code",
   "execution_count": null,
   "metadata": {},
   "outputs": [],
   "source": []
  },
  {
   "cell_type": "code",
   "execution_count": 12,
   "metadata": {},
   "outputs": [],
   "source": [
    "X_torch = X_train\n",
    "y_torch = y_train"
   ]
  },
  {
   "cell_type": "code",
   "execution_count": 13,
   "metadata": {},
   "outputs": [],
   "source": [
    "X_np = X_torch.detach().numpy()\n",
    "y_np = y_torch.detach().numpy()"
   ]
  },
  {
   "cell_type": "code",
   "execution_count": 14,
   "metadata": {},
   "outputs": [
    {
     "name": "stderr",
     "output_type": "stream",
     "text": [
      "WARNING:jax._src.lib.xla_bridge:No GPU/TPU found, falling back to CPU. (Set TF_CPP_MIN_LOG_LEVEL=0 and rerun for more info.)\n"
     ]
    },
    {
     "data": {
      "text/plain": [
       "FrozenDict({\n",
       "    params: {\n",
       "        x1: DeviceArray([530.927], dtype=float32),\n",
       "    },\n",
       "})"
      ]
     },
     "execution_count": 14,
     "metadata": {},
     "output_type": "execute_result"
    }
   ],
   "source": [
    "j_prod_store = JProd(x1_init=x1,\n",
    "                     s_init=s_init,\n",
    "                     scale=1.0)\n",
    "\n",
    "params = j_prod_store.init(rngs={'params': jax.random.PRNGKey(0)}, x=jnp.ones((1, 5)))\n",
    "params"
   ]
  },
  {
   "cell_type": "code",
   "execution_count": 15,
   "metadata": {},
   "outputs": [
    {
     "data": {
      "text/plain": [
       "((8397, 9), (8397,))"
      ]
     },
     "execution_count": 15,
     "metadata": {},
     "output_type": "execute_result"
    }
   ],
   "source": [
    "j_prod_out, j_s_store = j_prod_store.apply(params, X_np)\n",
    "j_prod_out.shape, j_s_store.shape"
   ]
  },
  {
   "cell_type": "code",
   "execution_count": 16,
   "metadata": {},
   "outputs": [],
   "source": [
    "ds = torchdata.TensorDataset(X_torch, y_torch)\n",
    "batch_sampler = CamelsBatchSampler(ds, batch_size=batch_size, \n",
    "                                         window_size=window_size,\n",
    "                                         drop_last=False)\n",
    "\n",
    "dl = torchdata.DataLoader(ds, batch_sampler=batch_sampler, \n",
    "                          num_workers=2, prefetch_factor=2)"
   ]
  },
  {
   "cell_type": "code",
   "execution_count": 17,
   "metadata": {},
   "outputs": [],
   "source": [
    "def j_create_sequence(X, y, window_size):\n",
    "\n",
    "        assert window_size is not None, \"Window size cannot be NoneType.\"\n",
    "\n",
    "        # Create empyty sequences\n",
    "        Xs, ys = [], []\n",
    "\n",
    "        # Add sequences to Xs and ys\n",
    "        for i in range(1, len(X) - window_size):\n",
    "            Xs.append(jnp.concatenate([\n",
    "                                    X[i: (i + window_size)], \n",
    "                                    y[i-1: (i + window_size - 1)]\n",
    "                                ], axis=1)\n",
    "                    )\n",
    "            ys.append(y[i + window_size - 1])\n",
    "\n",
    "        Xs, ys = jnp.stack(Xs), jnp.stack(ys)\n",
    "        # Xs = torch.unsqueeze(Xs, dim=3)\n",
    "\n",
    "        return Xs, ys"
   ]
  },
  {
   "cell_type": "code",
   "execution_count": 18,
   "metadata": {},
   "outputs": [],
   "source": [
    "j_prod_batch_out = []\n",
    "j_prod_batch_seq = []\n",
    "j_prod_batch_y = []\n",
    "j_batch_input = []\n",
    "\n",
    "j_prod_store.s_init = s_init\n",
    "\n",
    "for i, (X, q) in enumerate(dl, start=1):\n",
    "    \n",
    "    X = X.detach().numpy()\n",
    "    q = q.detach().numpy()\n",
    "\n",
    "    out, s_store  = j_prod_store.apply(params, X)\n",
    "\n",
    "    x_seq, y = j_create_sequence(out, q, window_size=window_size)\n",
    "    j_prod_batch_seq.append(x_seq)\n",
    "    j_prod_batch_y.append(y)\n",
    "\n",
    "    if i==1:\n",
    "        j_prod_batch_out.append(out)\n",
    "        j_batch_input.append(X)\n",
    "    else:\n",
    "        j_prod_batch_out.append(out[window_size+1:])\n",
    "        j_batch_input.append(X[window_size+1:])\n",
    "\n",
    "    j_prod_store.s_init = s_store[-window_size-2]/(params['params']['x1']*j_prod_store.scale)\n"
   ]
  },
  {
   "cell_type": "code",
   "execution_count": 19,
   "metadata": {},
   "outputs": [],
   "source": [
    "j_prod_seq, j_prod_y = j_create_sequence(j_prod_out, y_np,\n",
    "                                         window_size=window_size)"
   ]
  },
  {
   "cell_type": "code",
   "execution_count": 20,
   "metadata": {},
   "outputs": [],
   "source": [
    "np.testing.assert_almost_equal(j_batch_input[0], X_np[:batch_size])"
   ]
  },
  {
   "cell_type": "code",
   "execution_count": 21,
   "metadata": {},
   "outputs": [],
   "source": [
    "np.testing.assert_almost_equal(j_batch_input[1], X_np[batch_size:2*batch_size])"
   ]
  },
  {
   "cell_type": "code",
   "execution_count": 22,
   "metadata": {},
   "outputs": [],
   "source": [
    "np.testing.assert_almost_equal(np.concatenate(j_batch_input), X_np)"
   ]
  },
  {
   "cell_type": "code",
   "execution_count": 23,
   "metadata": {},
   "outputs": [],
   "source": [
    "np.testing.assert_almost_equal(np.concatenate(j_prod_batch_out), j_prod_out)"
   ]
  },
  {
   "cell_type": "code",
   "execution_count": 25,
   "metadata": {},
   "outputs": [],
   "source": [
    "np.testing.assert_almost_equal(np.concatenate(j_prod_batch_seq), j_prod_seq,\n",
    "                               decimal=5)"
   ]
  },
  {
   "cell_type": "code",
   "execution_count": 26,
   "metadata": {},
   "outputs": [],
   "source": [
    "np.testing.assert_almost_equal(np.concatenate(j_prod_batch_y), j_prod_y,\n",
    "                               decimal=5)"
   ]
  }
 ],
 "metadata": {
  "kernelspec": {
   "display_name": "base",
   "language": "python",
   "name": "python3"
  },
  "language_info": {
   "codemirror_mode": {
    "name": "ipython",
    "version": 3
   },
   "file_extension": ".py",
   "mimetype": "text/x-python",
   "name": "python",
   "nbconvert_exporter": "python",
   "pygments_lexer": "ipython3",
   "version": "3.9.13"
  },
  "orig_nbformat": 4,
  "vscode": {
   "interpreter": {
    "hash": "d4d1e4263499bec80672ea0156c357c1ee493ec2b1c70f0acce89fc37c4a6abe"
   }
  }
 },
 "nbformat": 4,
 "nbformat_minor": 2
}
